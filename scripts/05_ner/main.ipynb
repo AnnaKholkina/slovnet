{
 "cells": [
  {
   "cell_type": "code",
   "execution_count": null,
   "metadata": {},
   "outputs": [],
   "source": [
    "%run main.py\n",
    "%load_ext autoreload\n",
    "%autoreload 2\n",
    "\n",
    "!mkdir -p {DATA_DIR} {NAVEC_DIR} {MODEL_DIR}\n",
    "s3 = S3()"
   ]
  },
  {
   "cell_type": "code",
   "execution_count": null,
   "metadata": {},
   "outputs": [],
   "source": [
    "if not exists(NERUS):\n",
    "    s3.download(S3_NERUS, NERUS)\n",
    "    \n",
    "if not exists(NAVEC):\n",
    "    !wget {NAVEC_URL} -O {NAVEC}"
   ]
  },
  {
   "cell_type": "code",
   "execution_count": null,
   "metadata": {},
   "outputs": [],
   "source": [
    "navec = Navec.load(NAVEC)"
   ]
  },
  {
   "cell_type": "code",
   "execution_count": null,
   "metadata": {
    "scrolled": true
   },
   "outputs": [],
   "source": [
    "words_vocab = Vocab(navec.vocab.words)\n",
    "shapes_vocab = Vocab([PAD] + SHAPES)\n",
    "tags_vocab = BIOTagsVocab([PER, LOC, ORG])"
   ]
  },
  {
   "cell_type": "code",
   "execution_count": null,
   "metadata": {},
   "outputs": [],
   "source": [
    "torch.manual_seed(SEED)\n",
    "seed(SEED)"
   ]
  },
  {
   "cell_type": "code",
   "execution_count": null,
   "metadata": {},
   "outputs": [],
   "source": [
    "word = NavecEmbedding(navec)\n",
    "shape = Embedding(\n",
    "    vocab_size=len(shapes_vocab),\n",
    "    dim=SHAPE_DIM,\n",
    "    pad_id=shapes_vocab.pad_id\n",
    ")\n",
    "emb = TagEmbedding(word, shape)\n",
    "encoder = TagEncoder(\n",
    "    input_dim=emb.dim,\n",
    "    layer_dims=LAYER_DIMS,\n",
    "    kernel_size=KERNEL_SIZE,\n",
    ")\n",
    "ner = NERHead(encoder.dim, len(tags_vocab))\n",
    "model = NER(emb, encoder, ner)\n",
    "\n",
    "model = model.to(DEVICE)"
   ]
  },
  {
   "cell_type": "code",
   "execution_count": null,
   "metadata": {},
   "outputs": [],
   "source": [
    "lines = load_gz_lines(NERUS)\n",
    "lines = log_progress(lines, total=NERUS_TOTAL)\n",
    "items = parse_jl(lines)\n",
    "\n",
    "markups = (SpanMarkup.from_json(_) for _ in items)\n",
    "markups = (_.to_bio(list(tokenize(_.text))) for _ in markups)\n",
    "\n",
    "encode = TagTrainEncoder(\n",
    "    words_vocab, shapes_vocab, tags_vocab,\n",
    "    seq_len=256,\n",
    "    batch_size=64,\n",
    "    shuffle_size=10000,\n",
    ")\n",
    "batches = encode(markups)\n",
    "# full lenta is ~10k batches\n",
    "# epoch takes ~1h, on 2nd epoch loss expodes\n",
    "batches = head(batches, 4000)\n",
    "batches = [_.to(DEVICE) for _ in batches]\n",
    "\n",
    "size = 10\n",
    "batches = {\n",
    "    TEST: batches[:size],\n",
    "    TRAIN: batches[size:]\n",
    "}"
   ]
  },
  {
   "cell_type": "code",
   "execution_count": null,
   "metadata": {},
   "outputs": [],
   "source": [
    "board = MultiBoard([\n",
    "    TensorBoard(BOARD_NAME, RUNS_DIR),\n",
    "    LogBoard()\n",
    "])\n",
    "boards = {\n",
    "    TRAIN: board.section(TRAIN_BOARD),\n",
    "    TEST: board.section(TEST_BOARD),\n",
    "}"
   ]
  },
  {
   "cell_type": "code",
   "execution_count": null,
   "metadata": {},
   "outputs": [],
   "source": [
    "optimizer = optim.Adam(model.parameters(), lr=LR)\n",
    "scheduler = optim.lr_scheduler.ExponentialLR(optimizer, LR_GAMMA)"
   ]
  },
  {
   "cell_type": "code",
   "execution_count": null,
   "metadata": {},
   "outputs": [],
   "source": [
    "meters = {\n",
    "    TRAIN: NERScoreMeter(),\n",
    "    TEST: NERScoreMeter(),\n",
    "}\n",
    "\n",
    "for epoch in log_progress(range(EPOCHS)):\n",
    "    model.train()\n",
    "    for batch in log_progress(batches[TRAIN], leave=False):\n",
    "        optimizer.zero_grad()\n",
    "        batch = process_batch(model, ner.crf, batch)\n",
    "        batch.loss.backward()\n",
    "        optimizer.step()\n",
    "    \n",
    "        score = NERBatchScore(batch.loss)\n",
    "        meters[TRAIN].add(score)\n",
    "\n",
    "    meters[TRAIN].write(boards[TRAIN])\n",
    "    meters[TRAIN].reset()\n",
    "\n",
    "    model.eval()\n",
    "    with torch.no_grad():\n",
    "        for batch in log_progress(batches[TEST], leave=False, desc=TEST):\n",
    "            batch = process_batch(model, ner.crf, batch)\n",
    "            batch.pred = ner.crf.decode(batch.pred)\n",
    "            score = score_ner_batch(batch, tags_vocab)\n",
    "            meters[TEST].add(score)\n",
    "\n",
    "        meters[TEST].write(boards[TEST])\n",
    "        meters[TEST].reset()\n",
    "    \n",
    "    scheduler.step()\n",
    "    board.step()"
   ]
  },
  {
   "cell_type": "code",
   "execution_count": null,
   "metadata": {},
   "outputs": [],
   "source": [
    "# [2020-04-08 17:25:29]    0 10.5012 01_train/01_loss\n",
    "# [2020-04-08 17:25:35]    0 4.0317 02_test/01_loss\n",
    "# [2020-04-08 17:25:35]    0 0.9863 02_test/02_PER\n",
    "# [2020-04-08 17:25:35]    0 0.9694 02_test/03_LOC\n",
    "# [2020-04-08 17:25:35]    0 0.9366 02_test/04_ORG\n",
    "# [2020-04-08 17:33:09]    1 3.6917 01_train/01_loss\n",
    "# [2020-04-08 17:33:15]    1 3.4835 02_test/01_loss\n",
    "# [2020-04-08 17:33:15]    1 0.9910 02_test/02_PER\n",
    "# [2020-04-08 17:33:15]    1 0.9742 02_test/03_LOC\n",
    "# [2020-04-08 17:33:15]    1 0.9435 02_test/04_ORG\n",
    "# [2020-04-08 17:40:46]    2 3.0894 01_train/01_loss\n",
    "# [2020-04-08 17:40:53]    2 3.3013 02_test/01_loss\n",
    "# [2020-04-08 17:40:53]    2 0.9904 02_test/02_PER\n",
    "# [2020-04-08 17:40:53]    2 0.9731 02_test/03_LOC\n",
    "# [2020-04-08 17:40:53]    2 0.9469 02_test/04_ORG\n",
    "# [2020-04-08 17:48:26]    3 2.7084 01_train/01_loss\n",
    "# [2020-04-08 17:48:32]    3 3.2055 02_test/01_loss\n",
    "# [2020-04-08 17:48:32]    3 0.9880 02_test/02_PER\n",
    "# [2020-04-08 17:48:32]    3 0.9756 02_test/03_LOC\n",
    "# [2020-04-08 17:48:32]    3 0.9498 02_test/04_ORG\n",
    "# [2020-04-08 17:56:06]    4 2.3908 01_train/01_loss\n",
    "\n",
    "# [2020-04-08 17:56:12]    4 3.0724 02_test/01_loss\n",
    "# [2020-04-08 17:56:12]    4 0.9884 02_test/02_PER\n",
    "# [2020-04-08 17:56:12]    4 0.9753 02_test/03_LOC\n",
    "# [2020-04-08 17:56:12]    4 0.9494 02_test/04_ORG"
   ]
  },
  {
   "cell_type": "code",
   "execution_count": null,
   "metadata": {},
   "outputs": [],
   "source": [
    "# model.emb.shape.dump(MODEL_SHAPE)\n",
    "# model.encoder.dump(MODEL_ENCODER)\n",
    "# model.ner.dump(MODEL_NER)\n",
    "\n",
    "# s3.upload(MODEL_SHAPE, S3_MODEL_SHAPE)\n",
    "# s3.upload(MODEL_ENCODER, S3_MODEL_ENCODER)\n",
    "# s3.upload(MODEL_NER, S3_MODEL_NER)"
   ]
  },
  {
   "cell_type": "code",
   "execution_count": null,
   "metadata": {},
   "outputs": [],
   "source": []
  },
  {
   "cell_type": "code",
   "execution_count": null,
   "metadata": {},
   "outputs": [],
   "source": []
  }
 ],
 "metadata": {
  "kernelspec": {
   "display_name": "Python 3",
   "language": "python",
   "name": "python3"
  },
  "language_info": {
   "codemirror_mode": {
    "name": "ipython",
    "version": 3
   },
   "file_extension": ".py",
   "mimetype": "text/x-python",
   "name": "python",
   "nbconvert_exporter": "python",
   "pygments_lexer": "ipython3",
   "version": "3.6.9"
  }
 },
 "nbformat": 4,
 "nbformat_minor": 2
}
