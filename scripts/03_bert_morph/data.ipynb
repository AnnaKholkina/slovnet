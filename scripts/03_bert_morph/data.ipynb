{
 "cells": [
  {
   "cell_type": "code",
   "execution_count": 10,
   "metadata": {},
   "outputs": [
    {
     "name": "stdout",
     "output_type": "stream",
     "text": [
      "The autoreload extension is already loaded. To reload it, use:\n",
      "  %reload_ext autoreload\n"
     ]
    }
   ],
   "source": [
    "%run main.py\n",
    "%load_ext autoreload\n",
    "%autoreload 2\n",
    "\n",
    "!mkdir -p {DATA_DIR}\n",
    "s3 = S3()"
   ]
  },
  {
   "cell_type": "code",
   "execution_count": null,
   "metadata": {},
   "outputs": [],
   "source": [
    "for target in [NEWS, WIKI, FICTION]:\n",
    "    paths = (\n",
    "        join(CORUS_DIR, _)\n",
    "        for _ in CORUS_FILES[target]\n",
    "    )\n",
    "    records = (\n",
    "        record\n",
    "        for path in paths\n",
    "        for record in load_dataset(path)\n",
    "    )\n",
    "    records = log_progress(records, desc=target)\n",
    "    items = (_.as_json for _ in records)\n",
    "    lines = format_jl(items)\n",
    "    dump_gz_lines(lines, target)"
   ]
  },
  {
   "cell_type": "code",
   "execution_count": null,
   "metadata": {},
   "outputs": [],
   "source": [
    "s3.upload(NEWS, S3_NEWS)\n",
    "s3.upload(WIKI, S3_WIKI)\n",
    "s3.upload(FICTION, S3_FICTION)"
   ]
  },
  {
   "cell_type": "code",
   "execution_count": null,
   "metadata": {},
   "outputs": [],
   "source": []
  }
 ],
 "metadata": {
  "kernelspec": {
   "display_name": "Python 3",
   "language": "python",
   "name": "python3"
  },
  "language_info": {
   "codemirror_mode": {
    "name": "ipython",
    "version": 3
   },
   "file_extension": ".py",
   "mimetype": "text/x-python",
   "name": "python",
   "nbconvert_exporter": "python",
   "pygments_lexer": "ipython3",
   "version": "3.6.9"
  }
 },
 "nbformat": 4,
 "nbformat_minor": 2
}
