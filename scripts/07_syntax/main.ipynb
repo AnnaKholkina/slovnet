{
 "cells": [
  {
   "cell_type": "code",
   "execution_count": null,
   "metadata": {},
   "outputs": [],
   "source": [
    "%run main.py\n",
    "%load_ext autoreload\n",
    "%autoreload 2\n",
    "\n",
    "!mkdir -p {DATA_DIR} {NAVEC_DIR} {MODEL_DIR}\n",
    "s3 = S3()"
   ]
  },
  {
   "cell_type": "code",
   "execution_count": null,
   "metadata": {},
   "outputs": [],
   "source": [
    "if not exists(NERUS):\n",
    "    s3.download(S3_NERUS, NERUS)\n",
    "    \n",
    "if not exists(NAVEC):\n",
    "    !wget {NAVEC_URL} -O {NAVEC}"
   ]
  },
  {
   "cell_type": "code",
   "execution_count": null,
   "metadata": {},
   "outputs": [],
   "source": [
    "navec = Navec.load(NAVEC)"
   ]
  },
  {
   "cell_type": "code",
   "execution_count": null,
   "metadata": {
    "scrolled": true
   },
   "outputs": [],
   "source": [
    "words_vocab = Vocab(navec.vocab.words)\n",
    "shapes_vocab = Vocab([PAD] + SHAPES)"
   ]
  },
  {
   "cell_type": "code",
   "execution_count": null,
   "metadata": {},
   "outputs": [],
   "source": [
    "# lines = load_gz_lines(NERUS)\n",
    "# lines = log_progress(lines, total=NERUS_TOTAL)\n",
    "# items = parse_jl(lines)\n",
    "# markups = (SyntaxMarkup.from_json(_) for _ in items)\n",
    "\n",
    "# rels = set()\n",
    "# for markup in markups:\n",
    "#     for token in markup.tokens:\n",
    "#         rels.add(token.rel)\n",
    "            \n",
    "# rels = [PAD] + sorted(rels)\n",
    "# rels_vocab = Vocab(rels)\n",
    "# rels_vocab.dump(RELS_VOCAB)\n",
    "\n",
    "rels_vocab = Vocab.load(RELS_VOCAB)"
   ]
  },
  {
   "cell_type": "code",
   "execution_count": null,
   "metadata": {},
   "outputs": [],
   "source": [
    "torch.manual_seed(SEED)\n",
    "seed(SEED)"
   ]
  },
  {
   "cell_type": "code",
   "execution_count": null,
   "metadata": {},
   "outputs": [],
   "source": [
    "word = NavecEmbedding(navec)\n",
    "shape = Embedding(\n",
    "    vocab_size=len(shapes_vocab),\n",
    "    dim=SHAPE_DIM,\n",
    "    pad_id=shapes_vocab.pad_id\n",
    ")\n",
    "emb = SyntaxEmbedding(word, shape)\n",
    "encoder = SyntaxEncoder(\n",
    "    input_dim=emb.dim,\n",
    "    layer_dims=LAYER_DIMS,\n",
    "    kernel_size=KERNEL_SIZE,\n",
    ")\n",
    "head = SyntaxHead(\n",
    "    input_dim=encoder.dim,\n",
    "    hidden_dim=encoder.dim // 2,\n",
    ")\n",
    "rel = SyntaxRel(\n",
    "    input_dim=encoder.dim,\n",
    "    hidden_dim=encoder.dim // 2,\n",
    "    rel_dim=len(rels_vocab)\n",
    ")\n",
    "model = Syntax(emb, encoder, head, rel)\n",
    "\n",
    "model = model.to(DEVICE)\n",
    "\n",
    "criterion = masked_flatten_cross_entropy"
   ]
  },
  {
   "cell_type": "code",
   "execution_count": null,
   "metadata": {},
   "outputs": [],
   "source": [
    "lines = load_gz_lines(NERUS)\n",
    "lines = log_progress(lines, total=NERUS_TOTAL)\n",
    "items = parse_jl(lines)\n",
    "markups = (SyntaxMarkup.from_json(_) for _ in items)\n",
    "\n",
    "encode = SyntaxTrainEncoder(\n",
    "    words_vocab, shapes_vocab, rels_vocab,\n",
    "    batch_size=64,\n",
    "    sort_size=1000,\n",
    ")\n",
    "batches = encode(markups)\n",
    "batches = [_.to(DEVICE) for _ in batches]\n",
    "\n",
    "size = 25\n",
    "batches = {\n",
    "    TEST: batches[:size],\n",
    "    TRAIN: batches[size:]\n",
    "}"
   ]
  },
  {
   "cell_type": "code",
   "execution_count": null,
   "metadata": {},
   "outputs": [],
   "source": [
    "board = MultiBoard([\n",
    "    TensorBoard(BOARD_NAME, RUNS_DIR),\n",
    "    LogBoard()\n",
    "])\n",
    "boards = {\n",
    "    TRAIN: board.section(TRAIN_BOARD),\n",
    "    TEST: board.section(TEST_BOARD),\n",
    "}"
   ]
  },
  {
   "cell_type": "code",
   "execution_count": null,
   "metadata": {},
   "outputs": [],
   "source": [
    "optimizer = optim.Adam(model.parameters(), lr=LR)\n",
    "scheduler = optim.lr_scheduler.ExponentialLR(optimizer, LR_GAMMA)"
   ]
  },
  {
   "cell_type": "code",
   "execution_count": null,
   "metadata": {},
   "outputs": [],
   "source": [
    "meters = {\n",
    "    TRAIN: SyntaxScoreMeter(),\n",
    "    TEST: SyntaxScoreMeter(),\n",
    "}\n",
    "\n",
    "for epoch in log_progress(range(EPOCHS)):\n",
    "    model.train()\n",
    "    for batch in log_progress(batches[TRAIN], leave=False):\n",
    "        optimizer.zero_grad()\n",
    "        batch = process_batch(model, criterion, batch)\n",
    "        batch.loss.backward()\n",
    "        optimizer.step()\n",
    "    \n",
    "        score = score_syntax_batch(batch)\n",
    "        meters[TRAIN].add(score)\n",
    "\n",
    "    meters[TRAIN].write(boards[TRAIN])\n",
    "    meters[TRAIN].reset()\n",
    "\n",
    "    model.eval()\n",
    "    with torch.no_grad():\n",
    "        for batch in log_progress(batches[TEST], leave=False, desc=TEST):\n",
    "            batch = process_batch(model, criterion, batch)\n",
    "            score = score_syntax_batch(batch)\n",
    "            meters[TEST].add(score)\n",
    "\n",
    "        meters[TEST].write(boards[TEST])\n",
    "        meters[TEST].reset()\n",
    "    \n",
    "    scheduler.step()\n",
    "    board.step()"
   ]
  },
  {
   "cell_type": "code",
   "execution_count": null,
   "metadata": {},
   "outputs": [],
   "source": [
    "# [2020-04-23 12:56:17]    0 0.4075 01_train/01_loss\n",
    "# [2020-04-23 12:56:17]    0 0.8763 01_train/02_uas\n",
    "# [2020-04-23 12:56:17]    0 0.8585 01_train/03_las\n",
    "# [2020-04-23 12:56:17]    0 0.2476 02_test/01_loss\n",
    "# [2020-04-23 12:56:17]    0 0.9234 02_test/02_uas\n",
    "# [2020-04-23 12:56:17]    0 0.9110 02_test/03_las\n",
    "# [2020-04-23 13:32:26]    1 0.3313 01_train/01_loss\n",
    "# [2020-04-23 13:32:26]    1 0.8969 01_train/02_uas\n",
    "# [2020-04-23 13:32:26]    1 0.8819 01_train/03_las\n",
    "# [2020-04-23 13:32:26]    1 0.2322 02_test/01_loss\n",
    "# [2020-04-23 13:32:26]    1 0.9280 02_test/02_uas\n",
    "# [2020-04-23 13:32:26]    1 0.9170 02_test/03_las\n",
    "# [2020-04-23 14:08:56]    2 0.3123 01_train/01_loss\n",
    "# [2020-04-23 14:08:56]    2 0.9020 01_train/02_uas\n",
    "# [2020-04-23 14:08:56]    2 0.8877 01_train/03_las\n",
    "# [2020-04-23 14:08:56]    2 0.2233 02_test/01_loss\n",
    "# [2020-04-23 14:08:56]    2 0.9307 02_test/02_uas\n",
    "# [2020-04-23 14:08:56]    2 0.9196 02_test/03_las"
   ]
  },
  {
   "cell_type": "code",
   "execution_count": null,
   "metadata": {},
   "outputs": [],
   "source": [
    "# model.encoder.dump(MODEL_ENCODER)\n",
    "# model.head.dump(MODEL_HEAD)\n",
    "# model.rel.dump(MODEL_REL)\n",
    "# rels_vocab.dump(RELS_VOCAB)\n",
    "        \n",
    "# s3.upload(MODEL_ENCODER, S3_MODEL_ENCODER)\n",
    "# s3.upload(MODEL_HEAD, S3_MODEL_HEAD)\n",
    "# s3.upload(MODEL_REL, S3_MODEL_REL)\n",
    "# s3.upload(RELS_VOCAB, S3_RELS_VOCAB)"
   ]
  },
  {
   "cell_type": "code",
   "execution_count": null,
   "metadata": {},
   "outputs": [],
   "source": []
  }
 ],
 "metadata": {
  "kernelspec": {
   "display_name": "Python 3",
   "language": "python",
   "name": "python3"
  },
  "language_info": {
   "codemirror_mode": {
    "name": "ipython",
    "version": 3
   },
   "file_extension": ".py",
   "mimetype": "text/x-python",
   "name": "python",
   "nbconvert_exporter": "python",
   "pygments_lexer": "ipython3",
   "version": "3.6.9"
  }
 },
 "nbformat": 4,
 "nbformat_minor": 2
}
